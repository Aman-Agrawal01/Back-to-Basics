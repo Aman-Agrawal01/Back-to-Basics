{
  "nbformat": 4,
  "nbformat_minor": 0,
  "metadata": {
    "colab": {
      "provenance": [],
      "collapsed_sections": [],
      "authorship_tag": "ABX9TyOfkP4UK8C3vnSqAGNpcwNw",
      "include_colab_link": true
    },
    "kernelspec": {
      "name": "python3",
      "display_name": "Python 3"
    },
    "language_info": {
      "name": "python"
    }
  },
  "cells": [
    {
      "cell_type": "markdown",
      "metadata": {
        "id": "view-in-github",
        "colab_type": "text"
      },
      "source": [
        "<a href=\"https://colab.research.google.com/github/Aman-Agrawal01/RF/blob/main/Random_Forest.ipynb\" target=\"_parent\"><img src=\"https://colab.research.google.com/assets/colab-badge.svg\" alt=\"Open In Colab\"/></a>"
      ]
    },
    {
      "cell_type": "markdown",
      "source": [
        "# IMPORTING NECESSARY LIBRARIES\n",
        "Importing numpy, pandas, scikit learn for testing\n"
      ],
      "metadata": {
        "id": "2pgVxQdZPQdk"
      }
    },
    {
      "cell_type": "code",
      "execution_count": 1,
      "metadata": {
        "id": "t-OiTZhrtH8O"
      },
      "outputs": [],
      "source": [
        "import numpy as np\n",
        "import pandas as pd\n",
        "import random\n",
        "import math\n",
        "from sklearn.datasets import load_iris\n",
        "from sklearn.utils import shuffle\n",
        "from sklearn.tree import DecisionTreeClassifier\n",
        "from sklearn.ensemble import RandomForestClassifier\n",
        "from sklearn.ensemble import BaggingClassifier"
      ]
    },
    {
      "cell_type": "markdown",
      "source": [
        "# LOADING IRIS DATA SET \n",
        "The dataset consists of 4 features of 3 classes of 50 instances each \n",
        "\n",
        "\n",
        "\n",
        "Link - https://archive.ics.uci.edu/ml/datasets/iris"
      ],
      "metadata": {
        "id": "Z_pUb_pJPWYP"
      }
    },
    {
      "cell_type": "code",
      "source": [
        "iris = load_iris()\n",
        "iris_features = pd.DataFrame(iris.data,columns=['sepal length','sepal width','petal length','petal width'])\n",
        "iris_target = pd.DataFrame(iris.target,columns=['class'])\n",
        "df = pd.concat([iris_features,iris_target], axis=1)\n",
        "df = shuffle(df)\n",
        "print(df.head())"
      ],
      "metadata": {
        "id": "5J6tFgGZtPjr",
        "colab": {
          "base_uri": "https://localhost:8080/"
        },
        "outputId": "f49cfdbf-4746-46c6-9231-c02669ba8185"
      },
      "execution_count": 2,
      "outputs": [
        {
          "output_type": "stream",
          "name": "stdout",
          "text": [
            "     sepal length  sepal width  petal length  petal width  class\n",
            "32            5.2          4.1           1.5          0.1      0\n",
            "78            6.0          2.9           4.5          1.5      1\n",
            "66            5.6          3.0           4.5          1.5      1\n",
            "124           6.7          3.3           5.7          2.1      2\n",
            "71            6.1          2.8           4.0          1.3      1\n"
          ]
        }
      ]
    },
    {
      "cell_type": "markdown",
      "source": [
        "Splitting the data into test and training data"
      ],
      "metadata": {
        "id": "5_CjXaF8P3Ol"
      }
    },
    {
      "cell_type": "code",
      "source": [
        "X_train = df[['sepal length','sepal width','petal length','petal width']][0:100].values\n",
        "X_test = df[['sepal length','sepal width','petal length','petal width']][100:150].values\n",
        "y_train = df['class'][0:100].values\n",
        "y_test = df['class'][100:150].values"
      ],
      "metadata": {
        "id": "eWyOg6w5opVi"
      },
      "execution_count": 3,
      "outputs": []
    },
    {
      "cell_type": "markdown",
      "source": [
        "# CREATED NECESSARY FUNCTIONS"
      ],
      "metadata": {
        "id": "fgtn4n2SRl_w"
      }
    },
    {
      "cell_type": "code",
      "source": [
        "def random_forest_bootstrap(X, y, n_trees):\n",
        "  forest = []\n",
        "  indices = list(np.random.choice(range(len(X)), len(X), replace = True))\n",
        "  for i in range(n_trees):\n",
        "    X_bootstrap, y_bootstrap = X[indices], y[indices]\n",
        "    tree = DecisionTreeClassifier()\n",
        "    tree.fit(X_bootstrap, y_bootstrap)\n",
        "    forest.append(tree)\n",
        "  return forest\n",
        "\n",
        "def random_forest_bagging(X, y, n_trees):\n",
        "  forest = []\n",
        "  indices = [random.sample(range(4), math.ceil(math.sqrt(4))) for i in range(n_trees)]\n",
        "  for i in range(n_trees):\n",
        "    X_bagging, y_bagging = X[:,indices[i]], y\n",
        "    tree = DecisionTreeClassifier()\n",
        "    tree.fit(X_bagging, y_bagging)\n",
        "    forest.append(tree)\n",
        "  return forest, indices\n",
        "\n",
        "def predicting_random_forest_bootstrap(forest, X):\n",
        "    prediction_list = list()\n",
        "    for i in range(len(X)):\n",
        "        ensemble_prediction = [tree.predict(X[i].reshape(1,-1)) for tree in forest]\n",
        "        final_prediction = max(ensemble_prediction, key = ensemble_prediction.count)\n",
        "        prediction_list.append(final_prediction)\n",
        "    return np.array(prediction_list)\n",
        "\n",
        "def predicting_random_forest_bagging(forest, X, indices):\n",
        "    prediction_list = list()\n",
        "    for i in range(len(X)):\n",
        "      ensemble_prediction = []\n",
        "      n = 0\n",
        "      for tree in forest:\n",
        "        ensemble_prediction.append(tree.predict(X[i,indices[n]].reshape(1,-1)))\n",
        "        n = n + 1\n",
        "      final_prediction = max(ensemble_prediction, key = ensemble_prediction.count)\n",
        "      prediction_list.append(final_prediction)\n",
        "    return np.array(prediction_list)"
      ],
      "metadata": {
        "id": "hG49i3c3JQak"
      },
      "execution_count": 4,
      "outputs": []
    },
    {
      "cell_type": "markdown",
      "source": [
        "# TESTING"
      ],
      "metadata": {
        "id": "HsN-Esd_Rq50"
      }
    },
    {
      "cell_type": "code",
      "source": [
        "n_trees = 10"
      ],
      "metadata": {
        "id": "00wIFhtp7z8f"
      },
      "execution_count": 5,
      "outputs": []
    },
    {
      "cell_type": "code",
      "source": [
        "forest_bootstrap = random_forest_bootstrap(X_train, y_train, n_trees = n_trees)\n",
        "\n",
        "prediction = predicting_random_forest_bootstrap(forest_bootstrap,X_test).reshape(1,-1)\n",
        "\n",
        "accuracy = np.sum(sum(prediction == y_test))/len(y_test)\n",
        "print(accuracy)"
      ],
      "metadata": {
        "colab": {
          "base_uri": "https://localhost:8080/"
        },
        "id": "q_YTrEJKHZiZ",
        "outputId": "ae184283-86bf-4acd-ad64-e9705030254f"
      },
      "execution_count": 6,
      "outputs": [
        {
          "output_type": "stream",
          "name": "stdout",
          "text": [
            "0.92\n"
          ]
        }
      ]
    },
    {
      "cell_type": "code",
      "source": [
        "forest_bagging, indices = random_forest_bagging(X_train, y_train, n_trees = n_trees)\n",
        "\n",
        "prediction = predicting_random_forest_bagging(forest_bagging,X_test,indices).reshape(1,-1)\n",
        "\n",
        "accuracy = np.sum(sum(prediction == y_test))/len(y_test)\n",
        "print(accuracy)"
      ],
      "metadata": {
        "colab": {
          "base_uri": "https://localhost:8080/"
        },
        "id": "t5dpaqgq73Tj",
        "outputId": "40189fc9-7a19-4419-c9fb-81a7f9bfb342"
      },
      "execution_count": 7,
      "outputs": [
        {
          "output_type": "stream",
          "name": "stdout",
          "text": [
            "0.92\n"
          ]
        }
      ]
    },
    {
      "cell_type": "code",
      "source": [
        "rf_bootstrap = RandomForestClassifier(n_estimators = n_trees, bootstrap = True)\n",
        "rf_bootstrap.fit(X_train,y_train)\n",
        "\n",
        "print(rf_bootstrap.score(X_test,y_test))"
      ],
      "metadata": {
        "colab": {
          "base_uri": "https://localhost:8080/"
        },
        "id": "LPROoBzgCxmD",
        "outputId": "64620ddc-306a-4d62-e640-6b0c7f520ee6"
      },
      "execution_count": 8,
      "outputs": [
        {
          "output_type": "stream",
          "name": "stdout",
          "text": [
            "0.92\n"
          ]
        }
      ]
    },
    {
      "cell_type": "code",
      "source": [
        "rf_bagging = BaggingClassifier(base_estimator = RandomForestClassifier(), n_estimators = n_trees)\n",
        "rf_bagging.fit(X_train,y_train)\n",
        "\n",
        "print(rf_bagging.score(X_test,y_test))"
      ],
      "metadata": {
        "colab": {
          "base_uri": "https://localhost:8080/"
        },
        "id": "K06fk3S5BdTr",
        "outputId": "18e04079-424d-410f-c1b4-6ac3a0b301d7"
      },
      "execution_count": 9,
      "outputs": [
        {
          "output_type": "stream",
          "name": "stdout",
          "text": [
            "0.92\n"
          ]
        }
      ]
    }
  ]
}